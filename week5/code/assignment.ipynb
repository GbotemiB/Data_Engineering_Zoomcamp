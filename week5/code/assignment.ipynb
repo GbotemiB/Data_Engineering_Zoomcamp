{
 "cells": [
  {
   "cell_type": "code",
   "execution_count": 1,
   "id": "34880eea",
   "metadata": {},
   "outputs": [],
   "source": [
    "import pyspark\n",
    "from pyspark.sql import SparkSession"
   ]
  },
  {
   "cell_type": "code",
   "execution_count": 2,
   "id": "840cff1e",
   "metadata": {},
   "outputs": [
    {
     "name": "stderr",
     "output_type": "stream",
     "text": [
      "WARNING: An illegal reflective access operation has occurred\n",
      "WARNING: Illegal reflective access by org.apache.spark.unsafe.Platform (file:/home/gbotemi/spark/spark-3.2.3-bin-hadoop3.2/jars/spark-unsafe_2.12-3.2.3.jar) to constructor java.nio.DirectByteBuffer(long,int)\n",
      "WARNING: Please consider reporting this to the maintainers of org.apache.spark.unsafe.Platform\n",
      "WARNING: Use --illegal-access=warn to enable warnings of further illegal reflective access operations\n",
      "WARNING: All illegal access operations will be denied in a future release\n",
      "Using Spark's default log4j profile: org/apache/spark/log4j-defaults.properties\n",
      "Setting default log level to \"WARN\".\n",
      "To adjust logging level use sc.setLogLevel(newLevel). For SparkR, use setLogLevel(newLevel).\n",
      "23/02/28 12:37:06 WARN NativeCodeLoader: Unable to load native-hadoop library for your platform... using builtin-java classes where applicable\n"
     ]
    }
   ],
   "source": [
    "spark = SparkSession.builder \\\n",
    "    .master(\"local[*]\") \\\n",
    "    .appName('env') \\\n",
    "    .getOrCreate()"
   ]
  },
  {
   "cell_type": "code",
   "execution_count": 3,
   "id": "36dc4435",
   "metadata": {
    "scrolled": true
   },
   "outputs": [
    {
     "data": {
      "text/html": [
       "\n",
       "            <div>\n",
       "                <p><b>SparkSession - in-memory</b></p>\n",
       "                \n",
       "        <div>\n",
       "            <p><b>SparkContext</b></p>\n",
       "\n",
       "            <p><a href=\"http://instance-2.us-west4-b.c.dataeng-375609.internal:4040\">Spark UI</a></p>\n",
       "\n",
       "            <dl>\n",
       "              <dt>Version</dt>\n",
       "                <dd><code>v3.2.3</code></dd>\n",
       "              <dt>Master</dt>\n",
       "                <dd><code>local[*]</code></dd>\n",
       "              <dt>AppName</dt>\n",
       "                <dd><code>env</code></dd>\n",
       "            </dl>\n",
       "        </div>\n",
       "        \n",
       "            </div>\n",
       "        "
      ],
      "text/plain": [
       "<pyspark.sql.session.SparkSession at 0x7f43bc503430>"
      ]
     },
     "execution_count": 3,
     "metadata": {},
     "output_type": "execute_result"
    }
   ],
   "source": [
    "spark"
   ]
  },
  {
   "cell_type": "code",
   "execution_count": 4,
   "id": "6e220489",
   "metadata": {},
   "outputs": [
    {
     "name": "stdout",
     "output_type": "stream",
     "text": [
      "01_pyspark.ipynb       data\t\t\t       lib\r\n",
      "02_pyspark.ipynb       download_data.sh\t\t       notes.md\r\n",
      "03_pyspark.ipynb       fhvhv\t\t\t       taxi+_zone_lookup.csv\r\n",
      "06_spark_sql.ipynb     fhvhv_tripdata_2021-01.csv      test.txt\r\n",
      "06_spark_sql.py        fhvhv_tripdata_2021-01.csv.gz   tmp\r\n",
      "07_groupby_join.ipynb  fhvhv_tripdata_2021-01.parquet  zones\r\n",
      "09_spark_sql.ipynb     fhvhv_tripdata_2021-06.csv.gz\r\n",
      "assignment.ipynb       head.csv\r\n"
     ]
    }
   ],
   "source": [
    "!ls"
   ]
  },
  {
   "cell_type": "code",
   "execution_count": 5,
   "id": "a02241ac",
   "metadata": {
    "scrolled": true
   },
   "outputs": [],
   "source": [
    "# !wget https://github.com/DataTalksClub/nyc-tlc-data/releases/download/fhvhv/fhvhv_tripdata_2021-06.csv.gz"
   ]
  },
  {
   "cell_type": "code",
   "execution_count": 6,
   "id": "9c8a4dda",
   "metadata": {
    "scrolled": false
   },
   "outputs": [
    {
     "name": "stdout",
     "output_type": "stream",
     "text": [
      "dispatching_base_num      object\n",
      "pickup_datetime           object\n",
      "dropoff_datetime          object\n",
      "PULocationID               int64\n",
      "DOLocationID               int64\n",
      "SR_Flag                   object\n",
      "Affiliated_base_number    object\n",
      "dtype: object\n",
      "  dispatching_base_num      pickup_datetime     dropoff_datetime  \\\n",
      "0               B02764  2021-06-01 00:02:41  2021-06-01 00:07:46   \n",
      "1               B02764  2021-06-01 00:16:16  2021-06-01 00:21:14   \n",
      "2               B02764  2021-06-01 00:27:01  2021-06-01 00:42:11   \n",
      "3               B02764  2021-06-01 00:46:08  2021-06-01 00:53:45   \n",
      "4               B02510  2021-06-01 00:45:42  2021-06-01 01:03:33   \n",
      "\n",
      "   PULocationID  DOLocationID SR_Flag Affiliated_base_number  \n",
      "0           174            18       N                 B02764  \n",
      "1            32           254       N                 B02764  \n",
      "2           240           127       N                 B02764  \n",
      "3           127           235       N                 B02764  \n",
      "4           144           146       N                    NaN  \n",
      "(14961892, 7)\n"
     ]
    }
   ],
   "source": [
    "import pandas as pd\n",
    "\n",
    "data = pd.read_csv('fhvhv_tripdata_2021-06.csv.gz')\n",
    "\n",
    "print(data.dtypes)\n",
    "print(data.head())\n",
    "print(data.shape)"
   ]
  },
  {
   "cell_type": "code",
   "execution_count": 7,
   "id": "435b589a",
   "metadata": {},
   "outputs": [],
   "source": [
    "df = spark.read \\\n",
    "        .option(\"header\", \"true\") \\\n",
    "        .csv('fhvhv_tripdata_2021-06.csv.gz')"
   ]
  },
  {
   "cell_type": "code",
   "execution_count": 13,
   "id": "585ca518",
   "metadata": {},
   "outputs": [
    {
     "data": {
      "text/plain": [
       "StructType(List(StructField(dispatching_base_num,StringType,true),StructField(pickup_datetime,TimestampType,true),StructField(dropoff_datetime,TimestampType,true),StructField(PULocationID,StringType,true),StructField(DOLocationID,StringType,true),StructField(SR_Flag,StringType,true),StructField(Affiliated_base_number,StringType,true)))"
      ]
     },
     "execution_count": 13,
     "metadata": {},
     "output_type": "execute_result"
    }
   ],
   "source": [
    "df.schema"
   ]
  },
  {
   "cell_type": "code",
   "execution_count": 4,
   "id": "1280dd6d",
   "metadata": {},
   "outputs": [],
   "source": [
    "from pyspark.sql import types"
   ]
  },
  {
   "cell_type": "code",
   "execution_count": 5,
   "id": "5e4d1df0",
   "metadata": {},
   "outputs": [],
   "source": [
    "schema = types.StructType([\n",
    "    types.StructField('dispatching_base_num', types.StringType(), True),\n",
    "    types.StructField('pickup_datetime', types.TimestampType(), True),\n",
    "    types.StructField('dropoff_datetime', types.TimestampType(), True),\n",
    "    types.StructField('PULocationID', types.StringType(), True),\n",
    "    types.StructField('DOLocationID', types.StringType(), True),\n",
    "    types.StructField('SR_Flag', types.StringType(), True),\n",
    "    types.StructField('Affiliated_base_number', types.StringType(), True)\n",
    "])"
   ]
  },
  {
   "cell_type": "code",
   "execution_count": 6,
   "id": "5e7c692f",
   "metadata": {
    "scrolled": true
   },
   "outputs": [],
   "source": [
    "df = spark.read \\\n",
    "        .option(\"header\", \"true\") \\\n",
    "        .schema(schema) \\\n",
    "        .csv('fhvhv_tripdata_2021-06.csv.gz')"
   ]
  },
  {
   "cell_type": "code",
   "execution_count": 7,
   "id": "57de1241",
   "metadata": {},
   "outputs": [
    {
     "name": "stderr",
     "output_type": "stream",
     "text": [
      "                                                                                \r"
     ]
    },
    {
     "name": "stdout",
     "output_type": "stream",
     "text": [
      "+--------------------+-------------------+-------------------+------------+------------+-------+----------------------+\n",
      "|dispatching_base_num|    pickup_datetime|   dropoff_datetime|PULocationID|DOLocationID|SR_Flag|Affiliated_base_number|\n",
      "+--------------------+-------------------+-------------------+------------+------------+-------+----------------------+\n",
      "|              B02764|2021-06-01 00:02:41|2021-06-01 00:07:46|         174|          18|      N|                B02764|\n",
      "|              B02764|2021-06-01 00:16:16|2021-06-01 00:21:14|          32|         254|      N|                B02764|\n",
      "|              B02764|2021-06-01 00:27:01|2021-06-01 00:42:11|         240|         127|      N|                B02764|\n",
      "|              B02764|2021-06-01 00:46:08|2021-06-01 00:53:45|         127|         235|      N|                B02764|\n",
      "|              B02510|2021-06-01 00:45:42|2021-06-01 01:03:33|         144|         146|      N|                  null|\n",
      "+--------------------+-------------------+-------------------+------------+------------+-------+----------------------+\n",
      "only showing top 5 rows\n",
      "\n"
     ]
    }
   ],
   "source": [
    "df.show(5)"
   ]
  },
  {
   "cell_type": "code",
   "execution_count": 8,
   "id": "bae158e4",
   "metadata": {},
   "outputs": [],
   "source": [
    "df = df.repartition(12)"
   ]
  },
  {
   "cell_type": "code",
   "execution_count": 9,
   "id": "a314347c",
   "metadata": {},
   "outputs": [
    {
     "name": "stderr",
     "output_type": "stream",
     "text": [
      "[Stage 1:>                                                          (0 + 1) / 1]\r"
     ]
    },
    {
     "name": "stdout",
     "output_type": "stream",
     "text": [
      "+--------------------+-------------------+-------------------+------------+------------+-------+----------------------+\n",
      "|dispatching_base_num|    pickup_datetime|   dropoff_datetime|PULocationID|DOLocationID|SR_Flag|Affiliated_base_number|\n",
      "+--------------------+-------------------+-------------------+------------+------------+-------+----------------------+\n",
      "|              B02875|2021-06-20 03:36:37|2021-06-20 03:47:23|         242|         213|      N|                B02875|\n",
      "|              B02876|2021-06-25 08:23:10|2021-06-25 08:39:11|          77|         225|      N|                B02876|\n",
      "|              B02510|2021-06-13 19:06:04|2021-06-13 19:31:06|         163|          18|      N|                  null|\n",
      "|              B02872|2021-06-23 12:26:10|2021-06-23 12:52:30|         231|         181|      N|                B02872|\n",
      "|              B02870|2021-06-26 12:23:44|2021-06-26 12:34:59|         173|          70|      N|                B02870|\n",
      "|              B02764|2021-06-06 19:00:00|2021-06-06 19:12:37|         153|         243|      N|                B02764|\n",
      "|              B02510|2021-06-11 22:09:17|2021-06-11 22:20:33|         246|         163|      N|                  null|\n",
      "|              B02510|2021-06-07 09:42:50|2021-06-07 10:00:37|         231|          68|      N|                  null|\n",
      "|              B02510|2021-06-30 19:30:51|2021-06-30 19:53:42|         251|         245|      N|                  null|\n",
      "|              B02836|2021-06-24 22:36:47|2021-06-24 22:54:22|         151|         233|      N|                B02836|\n",
      "|              B02872|2021-06-29 22:50:58|2021-06-29 23:02:43|          76|         180|      N|                B02872|\n",
      "|              B02510|2021-06-20 21:56:57|2021-06-20 22:05:51|          72|         155|      N|                  null|\n",
      "|              B02875|2021-06-27 02:59:49|2021-06-27 03:10:26|          91|          85|      N|                B02875|\n",
      "|              B02764|2021-06-20 10:42:12|2021-06-20 10:49:52|         129|         226|      N|                B02764|\n",
      "|              B02510|2021-06-16 15:51:56|2021-06-16 16:42:07|         158|          42|      N|                  null|\n",
      "|              B02617|2021-06-04 09:59:59|2021-06-04 10:11:58|         181|          26|      N|                B02617|\n",
      "|              B02510|2021-06-05 00:56:46|2021-06-05 01:08:13|          90|         148|      N|                  null|\n",
      "|              B02764|2021-06-12 10:37:06|2021-06-12 10:51:26|          42|         168|      N|                B02764|\n",
      "|              B02877|2021-06-14 14:26:40|2021-06-14 15:11:22|         170|         262|      N|                B02877|\n",
      "|              B02879|2021-06-07 07:57:34|2021-06-07 08:14:44|         244|         128|      N|                B02879|\n",
      "+--------------------+-------------------+-------------------+------------+------------+-------+----------------------+\n",
      "only showing top 20 rows\n",
      "\n"
     ]
    },
    {
     "name": "stderr",
     "output_type": "stream",
     "text": [
      "\r",
      "                                                                                \r"
     ]
    }
   ],
   "source": [
    "df.show()"
   ]
  },
  {
   "cell_type": "code",
   "execution_count": 10,
   "id": "826f9ea0",
   "metadata": {},
   "outputs": [
    {
     "name": "stderr",
     "output_type": "stream",
     "text": [
      "                                                                                \r"
     ]
    }
   ],
   "source": [
    "# df.write.parquet('data/pq/fhvhv/fhvhv_tripdata_2021-06', mode=\"overwrite\")"
   ]
  },
  {
   "cell_type": "code",
   "execution_count": 14,
   "id": "1c2cf6d2",
   "metadata": {},
   "outputs": [
    {
     "name": "stdout",
     "output_type": "stream",
     "text": [
      "total 284M\r\n",
      "-rw-r--r-- 1 gbotemi gbotemi   0 Feb 28 13:03 _SUCCESS\r\n",
      "-rw-r--r-- 1 gbotemi gbotemi 24M Feb 28 13:02 part-00000-72043231-97ea-470d-9606-445226944594-c000.snappy.parquet\r\n",
      "-rw-r--r-- 1 gbotemi gbotemi 24M Feb 28 13:02 part-00001-72043231-97ea-470d-9606-445226944594-c000.snappy.parquet\r\n",
      "-rw-r--r-- 1 gbotemi gbotemi 24M Feb 28 13:02 part-00002-72043231-97ea-470d-9606-445226944594-c000.snappy.parquet\r\n",
      "-rw-r--r-- 1 gbotemi gbotemi 24M Feb 28 13:02 part-00003-72043231-97ea-470d-9606-445226944594-c000.snappy.parquet\r\n",
      "-rw-r--r-- 1 gbotemi gbotemi 24M Feb 28 13:03 part-00004-72043231-97ea-470d-9606-445226944594-c000.snappy.parquet\r\n",
      "-rw-r--r-- 1 gbotemi gbotemi 24M Feb 28 13:03 part-00005-72043231-97ea-470d-9606-445226944594-c000.snappy.parquet\r\n",
      "-rw-r--r-- 1 gbotemi gbotemi 24M Feb 28 13:03 part-00006-72043231-97ea-470d-9606-445226944594-c000.snappy.parquet\r\n",
      "-rw-r--r-- 1 gbotemi gbotemi 24M Feb 28 13:03 part-00007-72043231-97ea-470d-9606-445226944594-c000.snappy.parquet\r\n",
      "-rw-r--r-- 1 gbotemi gbotemi 24M Feb 28 13:03 part-00008-72043231-97ea-470d-9606-445226944594-c000.snappy.parquet\r\n",
      "-rw-r--r-- 1 gbotemi gbotemi 24M Feb 28 13:03 part-00009-72043231-97ea-470d-9606-445226944594-c000.snappy.parquet\r\n",
      "-rw-r--r-- 1 gbotemi gbotemi 24M Feb 28 13:03 part-00010-72043231-97ea-470d-9606-445226944594-c000.snappy.parquet\r\n",
      "-rw-r--r-- 1 gbotemi gbotemi 24M Feb 28 13:03 part-00011-72043231-97ea-470d-9606-445226944594-c000.snappy.parquet\r\n"
     ]
    }
   ],
   "source": [
    "!ls -lh data/pq/fhvhv/fhvhv_tripdata_2021-06/"
   ]
  },
  {
   "cell_type": "code",
   "execution_count": null,
   "id": "737f6b4f",
   "metadata": {},
   "outputs": [],
   "source": [
    "#read parquet file and perform operation on it"
   ]
  },
  {
   "cell_type": "code",
   "execution_count": 15,
   "id": "9fe4c959",
   "metadata": {},
   "outputs": [],
   "source": [
    "df = spark.read.parquet('data/pq/fhvhv/fhvhv_tripdata_2021-06/')"
   ]
  },
  {
   "cell_type": "code",
   "execution_count": 16,
   "id": "23acd5a7",
   "metadata": {},
   "outputs": [
    {
     "name": "stdout",
     "output_type": "stream",
     "text": [
      "+--------------------+-------------------+-------------------+------------+------------+-------+----------------------+\n",
      "|dispatching_base_num|    pickup_datetime|   dropoff_datetime|PULocationID|DOLocationID|SR_Flag|Affiliated_base_number|\n",
      "+--------------------+-------------------+-------------------+------------+------------+-------+----------------------+\n",
      "|              B02884|2021-06-17 19:06:11|2021-06-17 19:36:02|          42|         169|      N|                B02884|\n",
      "|              B02872|2021-06-07 09:23:51|2021-06-07 09:31:47|         242|         213|      N|                B02872|\n",
      "|              B02875|2021-06-29 04:40:25|2021-06-29 05:10:30|         249|         132|      N|                B02875|\n",
      "|              B02872|2021-06-07 17:15:23|2021-06-07 18:03:40|          48|         138|      N|                B02872|\n",
      "|              B02510|2021-06-19 17:33:55|2021-06-19 17:44:35|         255|         112|      N|                  null|\n",
      "+--------------------+-------------------+-------------------+------------+------------+-------+----------------------+\n",
      "only showing top 5 rows\n",
      "\n"
     ]
    }
   ],
   "source": [
    "df.show(5)"
   ]
  },
  {
   "cell_type": "code",
   "execution_count": 82,
   "id": "55775f8a",
   "metadata": {},
   "outputs": [],
   "source": [
    "df.registerTempTable('trips_data')\n",
    "zones.registerTempTable('zone')"
   ]
  },
  {
   "cell_type": "code",
   "execution_count": 18,
   "id": "79c9cd13",
   "metadata": {},
   "outputs": [
    {
     "name": "stderr",
     "output_type": "stream",
     "text": [
      "\r",
      "[Stage 9:>                                                          (0 + 4) / 4]\r"
     ]
    },
    {
     "name": "stdout",
     "output_type": "stream",
     "text": [
      "+--------+\n",
      "|count(1)|\n",
      "+--------+\n",
      "|  452470|\n",
      "+--------+\n",
      "\n"
     ]
    },
    {
     "name": "stderr",
     "output_type": "stream",
     "text": [
      "\r",
      "[Stage 9:============================================>              (3 + 1) / 4]\r",
      "\r",
      "                                                                                \r"
     ]
    }
   ],
   "source": [
    "spark.sql(\"\"\"\n",
    "SELECT\n",
    "    count(*)\n",
    "FROM\n",
    "    trips_data\n",
    "WHERE \n",
    "    pickup_datetime >= \"2021-06-15 00:00:00\"\n",
    "    AND\n",
    "    pickup_datetime < \"2021-06-16 00:00:00\"\n",
    "\"\"\"\n",
    ").show()"
   ]
  },
  {
   "cell_type": "code",
   "execution_count": 196,
   "id": "8b939273",
   "metadata": {
    "scrolled": true
   },
   "outputs": [
    {
     "ename": "ParseException",
     "evalue": "\nmismatched input ')' expecting {<EOF>, ';'}(line 6, pos 58)\n\n== SQL ==\n\nSELECT\n    dispatching_base_num,\n    pickup_datetime,\n    dropoff_datetime,\n    CAST((dropoff_datetime - pickup_datetime) as datetime)) AS duration,\n----------------------------------------------------------^^^\nFROM\n    trips_data\nLIMIT 5\n",
     "output_type": "error",
     "traceback": [
      "\u001b[0;31m---------------------------------------------------------------------------\u001b[0m",
      "\u001b[0;31mParseException\u001b[0m                            Traceback (most recent call last)",
      "Cell \u001b[0;32mIn[196], line 1\u001b[0m\n\u001b[0;32m----> 1\u001b[0m \u001b[43mspark\u001b[49m\u001b[38;5;241;43m.\u001b[39;49m\u001b[43msql\u001b[49m\u001b[43m(\u001b[49m\u001b[38;5;124;43m\"\"\"\u001b[39;49m\n\u001b[1;32m      2\u001b[0m \u001b[38;5;124;43mSELECT\u001b[39;49m\n\u001b[1;32m      3\u001b[0m \u001b[38;5;124;43m    dispatching_base_num,\u001b[39;49m\n\u001b[1;32m      4\u001b[0m \u001b[38;5;124;43m    pickup_datetime,\u001b[39;49m\n\u001b[1;32m      5\u001b[0m \u001b[38;5;124;43m    dropoff_datetime,\u001b[39;49m\n\u001b[1;32m      6\u001b[0m \u001b[38;5;124;43m    CAST((dropoff_datetime - pickup_datetime) as datetime)) AS duration,\u001b[39;49m\n\u001b[1;32m      7\u001b[0m \u001b[38;5;124;43mFROM\u001b[39;49m\n\u001b[1;32m      8\u001b[0m \u001b[38;5;124;43m    trips_data\u001b[39;49m\n\u001b[1;32m      9\u001b[0m \u001b[38;5;124;43mLIMIT 5\u001b[39;49m\n\u001b[1;32m     10\u001b[0m \u001b[38;5;124;43m\"\"\"\u001b[39;49m\n\u001b[1;32m     11\u001b[0m \u001b[43m)\u001b[49m\u001b[38;5;241m.\u001b[39mshow()\n",
      "File \u001b[0;32m~/spark/spark-3.2.3-bin-hadoop3.2/python/pyspark/sql/session.py:723\u001b[0m, in \u001b[0;36mSparkSession.sql\u001b[0;34m(self, sqlQuery)\u001b[0m\n\u001b[1;32m    707\u001b[0m \u001b[38;5;28;01mdef\u001b[39;00m \u001b[38;5;21msql\u001b[39m(\u001b[38;5;28mself\u001b[39m, sqlQuery):\n\u001b[1;32m    708\u001b[0m \u001b[38;5;250m    \u001b[39m\u001b[38;5;124;03m\"\"\"Returns a :class:`DataFrame` representing the result of the given query.\u001b[39;00m\n\u001b[1;32m    709\u001b[0m \n\u001b[1;32m    710\u001b[0m \u001b[38;5;124;03m    .. versionadded:: 2.0.0\u001b[39;00m\n\u001b[0;32m   (...)\u001b[0m\n\u001b[1;32m    721\u001b[0m \u001b[38;5;124;03m    [Row(f1=1, f2='row1'), Row(f1=2, f2='row2'), Row(f1=3, f2='row3')]\u001b[39;00m\n\u001b[1;32m    722\u001b[0m \u001b[38;5;124;03m    \"\"\"\u001b[39;00m\n\u001b[0;32m--> 723\u001b[0m     \u001b[38;5;28;01mreturn\u001b[39;00m DataFrame(\u001b[38;5;28;43mself\u001b[39;49m\u001b[38;5;241;43m.\u001b[39;49m\u001b[43m_jsparkSession\u001b[49m\u001b[38;5;241;43m.\u001b[39;49m\u001b[43msql\u001b[49m\u001b[43m(\u001b[49m\u001b[43msqlQuery\u001b[49m\u001b[43m)\u001b[49m, \u001b[38;5;28mself\u001b[39m\u001b[38;5;241m.\u001b[39m_wrapped)\n",
      "File \u001b[0;32m~/spark/spark-3.2.3-bin-hadoop3.2/python/lib/py4j-0.10.9.5-src.zip/py4j/java_gateway.py:1321\u001b[0m, in \u001b[0;36mJavaMember.__call__\u001b[0;34m(self, *args)\u001b[0m\n\u001b[1;32m   1315\u001b[0m command \u001b[38;5;241m=\u001b[39m proto\u001b[38;5;241m.\u001b[39mCALL_COMMAND_NAME \u001b[38;5;241m+\u001b[39m\\\n\u001b[1;32m   1316\u001b[0m     \u001b[38;5;28mself\u001b[39m\u001b[38;5;241m.\u001b[39mcommand_header \u001b[38;5;241m+\u001b[39m\\\n\u001b[1;32m   1317\u001b[0m     args_command \u001b[38;5;241m+\u001b[39m\\\n\u001b[1;32m   1318\u001b[0m     proto\u001b[38;5;241m.\u001b[39mEND_COMMAND_PART\n\u001b[1;32m   1320\u001b[0m answer \u001b[38;5;241m=\u001b[39m \u001b[38;5;28mself\u001b[39m\u001b[38;5;241m.\u001b[39mgateway_client\u001b[38;5;241m.\u001b[39msend_command(command)\n\u001b[0;32m-> 1321\u001b[0m return_value \u001b[38;5;241m=\u001b[39m \u001b[43mget_return_value\u001b[49m\u001b[43m(\u001b[49m\n\u001b[1;32m   1322\u001b[0m \u001b[43m    \u001b[49m\u001b[43manswer\u001b[49m\u001b[43m,\u001b[49m\u001b[43m \u001b[49m\u001b[38;5;28;43mself\u001b[39;49m\u001b[38;5;241;43m.\u001b[39;49m\u001b[43mgateway_client\u001b[49m\u001b[43m,\u001b[49m\u001b[43m \u001b[49m\u001b[38;5;28;43mself\u001b[39;49m\u001b[38;5;241;43m.\u001b[39;49m\u001b[43mtarget_id\u001b[49m\u001b[43m,\u001b[49m\u001b[43m \u001b[49m\u001b[38;5;28;43mself\u001b[39;49m\u001b[38;5;241;43m.\u001b[39;49m\u001b[43mname\u001b[49m\u001b[43m)\u001b[49m\n\u001b[1;32m   1324\u001b[0m \u001b[38;5;28;01mfor\u001b[39;00m temp_arg \u001b[38;5;129;01min\u001b[39;00m temp_args:\n\u001b[1;32m   1325\u001b[0m     temp_arg\u001b[38;5;241m.\u001b[39m_detach()\n",
      "File \u001b[0;32m~/spark/spark-3.2.3-bin-hadoop3.2/python/pyspark/sql/utils.py:117\u001b[0m, in \u001b[0;36mcapture_sql_exception.<locals>.deco\u001b[0;34m(*a, **kw)\u001b[0m\n\u001b[1;32m    113\u001b[0m converted \u001b[38;5;241m=\u001b[39m convert_exception(e\u001b[38;5;241m.\u001b[39mjava_exception)\n\u001b[1;32m    114\u001b[0m \u001b[38;5;28;01mif\u001b[39;00m \u001b[38;5;129;01mnot\u001b[39;00m \u001b[38;5;28misinstance\u001b[39m(converted, UnknownException):\n\u001b[1;32m    115\u001b[0m     \u001b[38;5;66;03m# Hide where the exception came from that shows a non-Pythonic\u001b[39;00m\n\u001b[1;32m    116\u001b[0m     \u001b[38;5;66;03m# JVM exception message.\u001b[39;00m\n\u001b[0;32m--> 117\u001b[0m     \u001b[38;5;28;01mraise\u001b[39;00m converted \u001b[38;5;28;01mfrom\u001b[39;00m \u001b[38;5;28mNone\u001b[39m\n\u001b[1;32m    118\u001b[0m \u001b[38;5;28;01melse\u001b[39;00m:\n\u001b[1;32m    119\u001b[0m     \u001b[38;5;28;01mraise\u001b[39;00m\n",
      "\u001b[0;31mParseException\u001b[0m: \nmismatched input ')' expecting {<EOF>, ';'}(line 6, pos 58)\n\n== SQL ==\n\nSELECT\n    dispatching_base_num,\n    pickup_datetime,\n    dropoff_datetime,\n    CAST((dropoff_datetime - pickup_datetime) as datetime)) AS duration,\n----------------------------------------------------------^^^\nFROM\n    trips_data\nLIMIT 5\n"
     ]
    }
   ],
   "source": [
    "spark.sql(\"\"\"\n",
    "SELECT\n",
    "    dispatching_base_num,\n",
    "    pickup_datetime,\n",
    "    dropoff_datetime,\n",
    "    CAST(CASTr(dropoff_datetime - pickup_datetime) as datetime)) AS duration,\n",
    "FROM\n",
    "    trips_data\n",
    "LIMIT 5\n",
    "\"\"\"\n",
    ").show()"
   ]
  },
  {
   "cell_type": "code",
   "execution_count": 65,
   "id": "fdb3bc1e",
   "metadata": {},
   "outputs": [],
   "source": [
    "zones = spark.read.option(\"header\", \"true\").csv('taxi+_zone_lookup.csv')"
   ]
  },
  {
   "cell_type": "code",
   "execution_count": 136,
   "id": "7dabed3e",
   "metadata": {
    "scrolled": true
   },
   "outputs": [
    {
     "name": "stdout",
     "output_type": "stream",
     "text": [
      "+----------+---------+--------------------+------------+\n",
      "|LocationID|  Borough|                Zone|service_zone|\n",
      "+----------+---------+--------------------+------------+\n",
      "|        62| Brooklyn| Crown Heights South|   Boro Zone|\n",
      "|        63| Brooklyn|       Cypress Hills|   Boro Zone|\n",
      "|        64|   Queens|          Douglaston|   Boro Zone|\n",
      "|        65| Brooklyn|Downtown Brooklyn...|   Boro Zone|\n",
      "|        66| Brooklyn|  DUMBO/Vinegar Hill|   Boro Zone|\n",
      "|        67| Brooklyn|       Dyker Heights|   Boro Zone|\n",
      "|        68|Manhattan|        East Chelsea| Yellow Zone|\n",
      "|        69|    Bronx|East Concourse/Co...|   Boro Zone|\n",
      "|        70|   Queens|       East Elmhurst|   Boro Zone|\n",
      "|        71| Brooklyn|East Flatbush/Far...|   Boro Zone|\n",
      "|        72| Brooklyn|East Flatbush/Rem...|   Boro Zone|\n",
      "|        73|   Queens|       East Flushing|   Boro Zone|\n",
      "|        74|Manhattan|   East Harlem North|   Boro Zone|\n",
      "|        75|Manhattan|   East Harlem South|   Boro Zone|\n",
      "|        76| Brooklyn|       East New York|   Boro Zone|\n",
      "|        77| Brooklyn|East New York/Pen...|   Boro Zone|\n",
      "|        78|    Bronx|        East Tremont|   Boro Zone|\n",
      "|        79|Manhattan|        East Village| Yellow Zone|\n",
      "|        80| Brooklyn|   East Williamsburg|   Boro Zone|\n",
      "|        81|    Bronx|         Eastchester|   Boro Zone|\n",
      "+----------+---------+--------------------+------------+\n",
      "only showing top 20 rows\n",
      "\n"
     ]
    }
   ],
   "source": [
    "zones.filter(zones.LocationID > 61).show()"
   ]
  },
  {
   "cell_type": "code",
   "execution_count": 69,
   "id": "f8c51ab9",
   "metadata": {},
   "outputs": [],
   "source": [
    "df_temp = df.join(zones, df.PULocationID == zones.LocationID)"
   ]
  },
  {
   "cell_type": "code",
   "execution_count": 75,
   "id": "97550dd6",
   "metadata": {},
   "outputs": [],
   "source": [
    "# spark.sql(\"\"\"\n",
    "# SELECT count(*),\n",
    "# FROM temp\n",
    "# GROUP BY PULocationID\n",
    "# \"\"\")"
   ]
  },
  {
   "cell_type": "code",
   "execution_count": null,
   "id": "bab2f9e1",
   "metadata": {},
   "outputs": [],
   "source": [
    "spark.createDataFrame('taxi+_zone_lookup.csv').createTempView()"
   ]
  },
  {
   "cell_type": "code",
   "execution_count": 78,
   "id": "456e463f",
   "metadata": {},
   "outputs": [
    {
     "data": {
      "text/plain": [
       "['dispatching_base_num',\n",
       " 'pickup_datetime',\n",
       " 'dropoff_datetime',\n",
       " 'PULocationID',\n",
       " 'DOLocationID',\n",
       " 'SR_Flag',\n",
       " 'Affiliated_base_number',\n",
       " 'LocationID',\n",
       " 'Borough',\n",
       " 'Zone',\n",
       " 'service_zone']"
      ]
     },
     "execution_count": 78,
     "metadata": {},
     "output_type": "execute_result"
    }
   ],
   "source": [
    "df_temp.columns"
   ]
  },
  {
   "cell_type": "code",
   "execution_count": 81,
   "id": "52608991",
   "metadata": {
    "scrolled": true
   },
   "outputs": [
    {
     "name": "stderr",
     "output_type": "stream",
     "text": [
      "[Stage 62:==============>                                           (1 + 3) / 4]\r"
     ]
    },
    {
     "name": "stdout",
     "output_type": "stream",
     "text": [
      "+--------+------------+\n",
      "|count(1)|PULocationID|\n",
      "+--------+------------+\n",
      "|   50712|         125|\n",
      "|  152493|           7|\n",
      "|   21165|         124|\n",
      "|   62409|          51|\n",
      "|   69232|         205|\n",
      "+--------+------------+\n",
      "\n"
     ]
    },
    {
     "name": "stderr",
     "output_type": "stream",
     "text": [
      "\r",
      "                                                                                \r"
     ]
    }
   ],
   "source": [
    "spark.sql(\"\"\"\n",
    "SELECT\n",
    "    count(*),\n",
    "    PULocationID\n",
    "FROM\n",
    "    temp\n",
    "GROUP BY\n",
    "    PULocationID\n",
    "LIMIT 5\n",
    "\"\"\"\n",
    ").show()"
   ]
  },
  {
   "cell_type": "code",
   "execution_count": 86,
   "id": "00d6e3cb",
   "metadata": {},
   "outputs": [
    {
     "data": {
      "text/plain": [
       "['LocationID', 'Borough', 'Zone', 'service_zone']"
      ]
     },
     "execution_count": 86,
     "metadata": {},
     "output_type": "execute_result"
    }
   ],
   "source": [
    "zones.columns"
   ]
  },
  {
   "cell_type": "code",
   "execution_count": 154,
   "id": "4938692f",
   "metadata": {},
   "outputs": [
    {
     "name": "stderr",
     "output_type": "stream",
     "text": [
      "\r",
      "[Stage 175:>                                                        (0 + 4) / 4]\r"
     ]
    },
    {
     "name": "stdout",
     "output_type": "stream",
     "text": [
      "+------+-------------------+\n",
      "| count|               zone|\n",
      "+------+-------------------+\n",
      "|231279|Crown Heights North|\n",
      "|221244|       East Village|\n",
      "|188867|        JFK Airport|\n",
      "|187929|     Bushwick South|\n",
      "|186780|      East New York|\n",
      "+------+-------------------+\n",
      "\n"
     ]
    },
    {
     "name": "stderr",
     "output_type": "stream",
     "text": [
      "\r",
      "[Stage 175:============================>                            (2 + 2) / 4]\r",
      "\r",
      "                                                                                \r"
     ]
    }
   ],
   "source": [
    "spark.sql(\"\"\"\n",
    "\n",
    "SELECT\n",
    "    (count(*)) as count,\n",
    "    zone\n",
    "    \n",
    "FROM\n",
    "    trips_data as t\n",
    "LEFT JOIN zone as z\n",
    "ON t.PULocationID = z.LocationID\n",
    "GROUP BY zone\n",
    "ORDER BY count DESC\n",
    "LIMIT 5\n",
    "\"\"\"\n",
    ").show()"
   ]
  },
  {
   "cell_type": "code",
   "execution_count": 156,
   "id": "7e26ea3c",
   "metadata": {},
   "outputs": [],
   "source": [
    "zones.createTempView(\"temp_zone\")"
   ]
  },
  {
   "cell_type": "code",
   "execution_count": 167,
   "id": "695c0b70",
   "metadata": {},
   "outputs": [
    {
     "name": "stdout",
     "output_type": "stream",
     "text": [
      "+----------+-------------+--------------------+------------+\n",
      "|LocationID|      Borough|                Zone|service_zone|\n",
      "+----------+-------------+--------------------+------------+\n",
      "|         1|          EWR|      Newark Airport|         EWR|\n",
      "|         2|       Queens|         Jamaica Bay|   Boro Zone|\n",
      "|         3|        Bronx|Allerton/Pelham G...|   Boro Zone|\n",
      "|         4|    Manhattan|       Alphabet City| Yellow Zone|\n",
      "|         5|Staten Island|       Arden Heights|   Boro Zone|\n",
      "+----------+-------------+--------------------+------------+\n",
      "only showing top 5 rows\n",
      "\n"
     ]
    }
   ],
   "source": [
    "spark.sql(\"\"\"\n",
    "SELECT *\n",
    "FROM temp_zone\n",
    "\"\"\").show(5)"
   ]
  },
  {
   "cell_type": "code",
   "execution_count": null,
   "id": "a27926f0",
   "metadata": {},
   "outputs": [],
   "source": []
  }
 ],
 "metadata": {
  "kernelspec": {
   "display_name": "Python 3 (ipykernel)",
   "language": "python",
   "name": "python3"
  },
  "language_info": {
   "codemirror_mode": {
    "name": "ipython",
    "version": 3
   },
   "file_extension": ".py",
   "mimetype": "text/x-python",
   "name": "python",
   "nbconvert_exporter": "python",
   "pygments_lexer": "ipython3",
   "version": "3.10.6"
  }
 },
 "nbformat": 4,
 "nbformat_minor": 5
}
